{
 "cells": [
  {
   "cell_type": "markdown",
   "metadata": {},
   "source": [
    "# PANOPTES Data Rate\n",
    "\n",
    "This notebook is a summary of quick \"back of the envelope\" calulcations of the data rate for PANOPTES.  The caluclations will be made for several data products which will be handles separately:\n",
    "\n",
    "1. Raw FITS files\n",
    "2. PIAA produced Postage Stamp Cubes (PSCs)\n",
    "3. PIAA produced light curve data which is sent to and stored in the Google Cloud"
   ]
  },
  {
   "cell_type": "code",
   "execution_count": 3,
   "metadata": {
    "collapsed": true
   },
   "outputs": [],
   "source": [
    "#Imports\n",
    "from astropy import units as u"
   ]
  },
  {
   "cell_type": "markdown",
   "metadata": {},
   "source": [
    "## Assumptions"
   ]
  },
  {
   "cell_type": "code",
   "execution_count": 47,
   "metadata": {
    "collapsed": true
   },
   "outputs": [],
   "source": [
    "length_of_night = 10*u.hour\n",
    "typical_exposure_time = 2*u.minute\n",
    "typical_efficiency = 1.0\n",
    "pixel_count_in_image = 5208*3476*u.pixel\n",
    "size_of_cr2 = 19*u.Mbyte\n",
    "fpack_compression_factor = 0.5\n",
    "number_of_cameras = 2\n",
    "number_of_stars = 1e5\n",
    "size_of_PSC_crop = 5*5*u.pixel\n",
    "size_of_light_curve_point = 8*(2*u.byte) ## Assume 8 values (r, g, b, sig_r, sig_g, sig_b, time, seq_id)\n",
    "                                         ## at average of 2 bytes per value"
   ]
  },
  {
   "cell_type": "markdown",
   "metadata": {},
   "source": [
    "\n",
    "## Raw Data"
   ]
  },
  {
   "cell_type": "code",
   "execution_count": 54,
   "metadata": {
    "collapsed": false
   },
   "outputs": [
    {
     "name": "stdout",
     "output_type": "stream",
     "text": [
      "Number of images = 600\n"
     ]
    }
   ],
   "source": [
    "n_images = length_of_night.to(u.minute) / (typical_exposure_time.to(u.minute)/typical_efficiency) * number_of_cameras\n",
    "print('Number of images = {:d}'.format(int(n_images)))"
   ]
  },
  {
   "cell_type": "code",
   "execution_count": 55,
   "metadata": {
    "collapsed": false
   },
   "outputs": [
    {
     "name": "stdout",
     "output_type": "stream",
     "text": [
      "Disk usage of CR2 files per unit per night = 11.4 Gbyte / d\n"
     ]
    }
   ],
   "source": [
    "data_rate_cr2 = n_images * size_of_cr2.to(u.Gbyte) / u.day\n",
    "print('Disk usage of CR2 files per unit = {:.1f}'.format(data_rate_cr2))"
   ]
  },
  {
   "cell_type": "code",
   "execution_count": 58,
   "metadata": {
    "collapsed": false
   },
   "outputs": [
    {
     "name": "stdout",
     "output_type": "stream",
     "text": [
      "Disk usage of FITS files per unit = 21.7 Gbyte / d\n",
      "Disk usage of fpack'd FITS files per unit = 10.9 Gbyte / d\n"
     ]
    }
   ],
   "source": [
    "data_rate_fits = n_images * pixel_count_in_image * (2*u.byte/u.pixel) / u.day\n",
    "print('Disk usage of FITS files per unit = {:.1f}'.format(data_rate_fits.to(u.Gbyte/u.day)))\n",
    "data_rate_fpack = fpack_compression_factor*data_rate_fits\n",
    "print(\"Disk usage of fpack'd FITS files per unit = {:.1f}\".format(data_rate_fpack.to(u.Gbyte/u.day)))"
   ]
  },
  {
   "cell_type": "markdown",
   "metadata": {},
   "source": [
    "## Postage Stamp Cubes"
   ]
  },
  {
   "cell_type": "code",
   "execution_count": 60,
   "metadata": {
    "collapsed": false
   },
   "outputs": [
    {
     "name": "stdout",
     "output_type": "stream",
     "text": [
      "Disk usage of PSC FITS files per unit = 3.0 Gbyte / d\n",
      "Disk usage of fpack'd PSC FITS files per unit = 1.5 Gbyte / d\n"
     ]
    }
   ],
   "source": [
    "data_rate_PSCs = n_images*number_of_stars*size_of_PSC_crop * (2*u.byte/u.pixel) / u.day\n",
    "print('Disk usage of PSC FITS files per unit = {:.1f}'.format(data_rate_PSCs.to(u.Gbyte/u.day)))\n",
    "data_rate_PSCs_fpack = fpack_compression_factor*data_rate_PSCs\n",
    "print(\"Disk usage of fpack'd PSC FITS files per unit = {:.1f}\".format(data_rate_PSCs_fpack.to(u.Gbyte/u.day)))"
   ]
  },
  {
   "cell_type": "markdown",
   "metadata": {},
   "source": [
    "## Light Curve Datums"
   ]
  },
  {
   "cell_type": "code",
   "execution_count": 61,
   "metadata": {
    "collapsed": false
   },
   "outputs": [
    {
     "name": "stdout",
     "output_type": "stream",
     "text": [
      "Data rate of light curve data per unit = 0.96 Gbyte / d\n"
     ]
    }
   ],
   "source": [
    "data_rate_light_curve = n_images*number_of_stars*size_of_light_curve_point / u.day\n",
    "print('Data rate of light curve data per unit = {:.2f}'.format(data_rate_light_curve.to(u.Gbyte/u.day)))"
   ]
  },
  {
   "cell_type": "code",
   "execution_count": null,
   "metadata": {
    "collapsed": true
   },
   "outputs": [],
   "source": []
  }
 ],
 "metadata": {
  "anaconda-cloud": {},
  "kernelspec": {
   "display_name": "Python [conda root]",
   "language": "python",
   "name": "conda-root-py"
  },
  "language_info": {
   "codemirror_mode": {
    "name": "ipython",
    "version": 3
   },
   "file_extension": ".py",
   "mimetype": "text/x-python",
   "name": "python",
   "nbconvert_exporter": "python",
   "pygments_lexer": "ipython3",
   "version": "3.5.2"
  }
 },
 "nbformat": 4,
 "nbformat_minor": 0
}
